{
  "nbformat": 4,
  "nbformat_minor": 0,
  "metadata": {
    "colab": {
      "provenance": [],
      "authorship_tag": "ABX9TyNiPb2WeC7tclK3wcK9u9c/",
      "include_colab_link": true
    },
    "kernelspec": {
      "name": "python3",
      "display_name": "Python 3"
    },
    "language_info": {
      "name": "python"
    }
  },
  "cells": [
    {
      "cell_type": "markdown",
      "metadata": {
        "id": "view-in-github",
        "colab_type": "text"
      },
      "source": [
        "<a href=\"https://colab.research.google.com/github/amberofficil/Assign-04/blob/main/online_class_projects_01_basics.ipynb\" target=\"_parent\"><img src=\"https://colab.research.google.com/assets/colab-badge.svg\" alt=\"Open In Colab\"/></a>"
      ]
    },
    {
      "cell_type": "code",
      "execution_count": null,
      "metadata": {
        "colab": {
          "base_uri": "https://localhost:8080/"
        },
        "id": "4xYwpPOXZpMU",
        "outputId": "b98835ae-33aa-44ca-bf33-ee54034797fe"
      },
      "outputs": [
        {
          "output_type": "stream",
          "name": "stdout",
          "text": [
            "01_basics/00_joke_bot.md\n",
            "What do you want? story\n",
            "Sorry I only tell jokes.\n"
          ]
        }
      ],
      "source": [
        "print(\"01_basics/00_joke_bot.md\")\n",
        "PROMPT: str = \"What do you want? \"\n",
        "JOKE: str = \"Why don't skeletons fight each other? \\n Because they don't have the guts! 😀\"\n",
        "SORRY: str = \"Sorry I only tell jokes.\"\n",
        "\n",
        "def main():\n",
        "    user_input = input(PROMPT)  # input lene ka sahi tareeqa\n",
        "    user_input = user_input.strip().lower()\n",
        "\n",
        "    if \"joke\" in user_input:\n",
        "        print(JOKE)\n",
        "    else:\n",
        "        print(SORRY)\n",
        "\n",
        "if __name__ == \"__main__\":\n",
        "    main()\n",
        "\n"
      ]
    },
    {
      "cell_type": "code",
      "source": [
        "print(\"01_basics/01_double_it.md\")\n",
        "def main():\n",
        "    user_value = int(input(\"Enter a number: \"))\n",
        "    while user_value < 100:\n",
        "        user_value = user_value * 2\n",
        "        print(user_value)\n",
        "\n",
        "if __name__ == \"__main__\":\n",
        "    main()"
      ],
      "metadata": {
        "colab": {
          "base_uri": "https://localhost:8080/"
        },
        "id": "hEMe-zFEkzjP",
        "outputId": "314935db-d106-413f-fcdd-c91e96bdd359"
      },
      "execution_count": 1,
      "outputs": [
        {
          "output_type": "stream",
          "name": "stdout",
          "text": [
            "01_basics/01_double_it.md\n",
            "Enter a number: 2\n",
            "4\n",
            "8\n",
            "16\n",
            "32\n",
            "64\n",
            "128\n"
          ]
        }
      ]
    },
    {
      "cell_type": "code",
      "source": [
        "print(\"01_basics/02_liftoff\")\n",
        "def main():\n",
        "    for i in range(10, 0, -1):\n",
        "        print(i, end=\" \")\n",
        "    print(\"Liftoff!\")\n",
        "\n",
        "if __name__ == \"__main__\":\n",
        "    main()"
      ],
      "metadata": {
        "colab": {
          "base_uri": "https://localhost:8080/"
        },
        "id": "E6cSAQ4PmXwH",
        "outputId": "6957a1c9-93a4-498d-d6d4-2415d74f0f2a"
      },
      "execution_count": 2,
      "outputs": [
        {
          "output_type": "stream",
          "name": "stdout",
          "text": [
            "01_basics/02_liftoff\n",
            "10 9 8 7 6 5 4 3 2 1 Liftoff!\n"
          ]
        }
      ]
    },
    {
      "cell_type": "code",
      "source": [
        "print(\"01_basics/03_guess_my_number\")\n",
        "import random\n",
        "\n",
        "def main():\n",
        "    secret_number = random.randint(1, 100)\n",
        "    print(\"I am thinking of a number between 1 and 100...\")\n",
        "\n",
        "    guess = int(input(\"Enter a guess: \"))\n",
        "\n",
        "    while guess != secret_number:\n",
        "        if guess < secret_number:\n",
        "            print(\"Your guess is too low.\")\n",
        "        else:\n",
        "            print(\"Your guess is too high.\")\n",
        "        guess = int(input(\"Enter a guess: \"))\n",
        "\n",
        "    print(f\"Congratulations! The number was {secret_number}\")\n",
        "\n",
        "if __name__ == \"__main__\":\n",
        "    main()"
      ],
      "metadata": {
        "colab": {
          "base_uri": "https://localhost:8080/"
        },
        "id": "hRxmPgYMm97H",
        "outputId": "e2ec0e2a-85bc-4b7d-ec41-816be3c5c963"
      },
      "execution_count": 3,
      "outputs": [
        {
          "output_type": "stream",
          "name": "stdout",
          "text": [
            "01_basics/03_guess_my_number\n",
            "I am thinking of a number between 1 and 100...\n",
            "Enter a guess: 60\n",
            "Your guess is too high.\n",
            "Enter a guess: 55\n",
            "Your guess is too high.\n",
            "Enter a guess: 40\n",
            "Your guess is too high.\n",
            "Enter a guess: 30\n",
            "Your guess is too low.\n",
            "Enter a guess: 35\n",
            "Your guess is too low.\n",
            "Enter a guess: 39\n",
            "Congratulations! The number was 39\n"
          ]
        }
      ]
    },
    {
      "cell_type": "code",
      "source": [
        "print(\"01_basics/04_random_numbers\")\n",
        "\n",
        "import random\n",
        "\n",
        "def main():\n",
        "    for i in range(10):\n",
        "        num: int = random.randint(1, 100)\n",
        "        print(num)\n",
        "\n",
        "if __name__ == '__main__':\n",
        "    main()"
      ],
      "metadata": {
        "colab": {
          "base_uri": "https://localhost:8080/"
        },
        "id": "gh9YMoETojgu",
        "outputId": "c7bedd64-5020-4be1-f5c5-b56e893352f6"
      },
      "execution_count": 4,
      "outputs": [
        {
          "output_type": "stream",
          "name": "stdout",
          "text": [
            "01_basics/04_random_numbers\n",
            "68\n",
            "92\n",
            "52\n",
            "34\n",
            "88\n",
            "79\n",
            "33\n",
            "65\n",
            "25\n",
            "1\n"
          ]
        }
      ]
    }
  ]
}