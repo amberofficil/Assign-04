{
  "nbformat": 4,
  "nbformat_minor": 0,
  "metadata": {
    "colab": {
      "provenance": [],
      "authorship_tag": "ABX9TyNUaDrRDBgQg7fYUYvlF6R8",
      "include_colab_link": true
    },
    "kernelspec": {
      "name": "python3",
      "display_name": "Python 3"
    },
    "language_info": {
      "name": "python"
    }
  },
  "cells": [
    {
      "cell_type": "markdown",
      "metadata": {
        "id": "view-in-github",
        "colab_type": "text"
      },
      "source": [
        "<a href=\"https://colab.research.google.com/github/amberofficil/Assign-04/blob/main/05_loops_control_flow.ipynb\" target=\"_parent\"><img src=\"https://colab.research.google.com/assets/colab-badge.svg\" alt=\"Open In Colab\"/></a>"
      ]
    },
    {
      "cell_type": "code",
      "execution_count": 2,
      "metadata": {
        "colab": {
          "base_uri": "https://localhost:8080/"
        },
        "id": "1hAk05B12FQl",
        "outputId": "be883f37-2ea5-4327-8ea7-f1ba3bcdd577"
      },
      "outputs": [
        {
          "output_type": "stream",
          "name": "stdout",
          "text": [
            "00_guess_my_number\n",
            "I am thinking of a number between 1 and 100...\n",
            "Enter a guess: 56\n",
            "Your guess is too low.\n",
            "Enter a guess: 98\n",
            "Your guess is too high.\n",
            "Enter a guess: 76\n",
            "Your guess is too low.\n",
            "Enter a guess: 69\n",
            "Your guess is too low.\n",
            "Enter a guess: 70\n",
            "Your guess is too low.\n",
            "Enter a guess: 72\n",
            "Your guess is too low.\n",
            "Enter a guess: 71\n",
            "Your guess is too low.\n",
            "Enter a guess: 72\n",
            "Your guess is too low.\n",
            "Enter a guess: 73\n",
            "Your guess is too low.\n",
            "Enter a guess: 75\n",
            "Your guess is too low.\n",
            "Enter a guess: 80\n",
            "Your guess is too low.\n",
            "Enter a guess: 85\n",
            "Your guess is too high.\n",
            "Enter a guess: 83\n",
            "Your guess is too low.\n",
            "Enter a guess: 84\n",
            "Congratulations! The number was 84\n"
          ]
        }
      ],
      "source": [
        "print(\"00_guess_my_number\")\n",
        "import random\n",
        "\n",
        "def main():\n",
        "    secret_number = random.randint(1, 100)\n",
        "    print(\"I am thinking of a number between 1 and 100...\")\n",
        "\n",
        "    guess = int(input(\"Enter a guess: \"))\n",
        "\n",
        "    while guess != secret_number:\n",
        "        if guess < secret_number:\n",
        "            print(\"Your guess is too low.\")\n",
        "        else:\n",
        "            print(\"Your guess is too high.\")\n",
        "        guess = int(input(\"Enter a guess: \"))\n",
        "\n",
        "    print(f\"Congratulations! The number was {secret_number}\")\n",
        "\n",
        "if __name__ == \"__main__\":\n",
        "    main()\n",
        "\n"
      ]
    },
    {
      "cell_type": "code",
      "source": [
        "print(\"01_fibonacci\")\n",
        "max_value = 10000\n",
        "\n",
        "def main():\n",
        "    a, b = 0, 1\n",
        "    print(a, b, end=\" \")\n",
        "\n",
        "    while True:\n",
        "        c = a + b\n",
        "        if c >= max_value:\n",
        "            break\n",
        "        print(c, end=\" \")\n",
        "        a, b = b, c\n",
        "\n",
        "if __name__ == \"__main__\":\n",
        "    main()\n"
      ],
      "metadata": {
        "colab": {
          "base_uri": "https://localhost:8080/"
        },
        "id": "K2Z7sOIZ9VrX",
        "outputId": "6db4277e-2486-4952-b826-1ae66af6dc63"
      },
      "execution_count": 5,
      "outputs": [
        {
          "output_type": "stream",
          "name": "stdout",
          "text": [
            "01_fibonacci\n",
            "0 1 1 2 3 5 8 13 21 34 55 89 144 233 377 610 987 1597 2584 4181 6765 "
          ]
        }
      ]
    },
    {
      "cell_type": "code",
      "source": [
        "print(\"02_print_events\")\n",
        "\n",
        "def main():\n",
        "    for i in range(20):\n",
        "        print(i * 2)\n",
        "\n",
        "if __name__ == \"__main__\":\n",
        "    main()\n"
      ],
      "metadata": {
        "colab": {
          "base_uri": "https://localhost:8080/"
        },
        "id": "jY190VvA2NJi",
        "outputId": "3a7bca8f-d44e-4a39-b9e5-4c64a69eccc1"
      },
      "execution_count": 9,
      "outputs": [
        {
          "output_type": "stream",
          "name": "stdout",
          "text": [
            "02_print_events\n",
            "0\n",
            "2\n",
            "4\n",
            "6\n",
            "8\n",
            "10\n",
            "12\n",
            "14\n",
            "16\n",
            "18\n",
            "20\n",
            "22\n",
            "24\n",
            "26\n",
            "28\n",
            "30\n",
            "32\n",
            "34\n",
            "36\n",
            "38\n"
          ]
        }
      ]
    },
    {
      "cell_type": "code",
      "source": [
        "print(\"03_wholesome_machine\")\n",
        "\n",
        "correct_affirmation = \"I am capable of doing anything. I put my mind too.\"\n",
        "\n",
        "def main():\n",
        "    print(\"Welcome to the Wholesome Machine!\")\n",
        "    while True:\n",
        "        user_input = input(\"Please type the following affirmation:\" + correct_affirmation)\n",
        "        if user_input == correct_affirmation:\n",
        "            print(\"That's right!\")\n",
        "            break\n",
        "        else:\n",
        "            print(\"Hmmm... That was not the affirmation. Please try again!\")\n",
        "\n",
        "if __name__ == \"__main__\":\n",
        "    main()\n",
        "\n"
      ],
      "metadata": {
        "colab": {
          "base_uri": "https://localhost:8080/"
        },
        "id": "kHTRMWMoAqMR",
        "outputId": "7f2f23c7-a9f6-4233-99d3-b6fc62cd118f"
      },
      "execution_count": 16,
      "outputs": [
        {
          "output_type": "stream",
          "name": "stdout",
          "text": [
            "03_wholesome_machine\n",
            "Welcome to the Wholesome Machine!\n",
            "Please type the following affirmation:I am capable of doing anything. I put my mind too.ok\n",
            "Hmmm... That was not the affirmation. Please try again!\n",
            "Please type the following affirmation:I am capable of doing anything. I put my mind too.I am capable of doing anything. I put my mind too.\n",
            "That's right!\n"
          ]
        }
      ]
    },
    {
      "cell_type": "code",
      "source": [
        "print(\"04_liftoff\")\n",
        "def main():\n",
        "    for i in range(10, 0, -1):\n",
        "        print(i, end=\" \")\n",
        "    print(\"Liftoff!\")\n",
        "\n",
        "if __name__ == \"__main__\":\n",
        "    main()\n"
      ],
      "metadata": {
        "colab": {
          "base_uri": "https://localhost:8080/"
        },
        "id": "whUDByNxGz3x",
        "outputId": "a029c2a5-264e-47df-b1d1-b59261fc243c"
      },
      "execution_count": 20,
      "outputs": [
        {
          "output_type": "stream",
          "name": "stdout",
          "text": [
            "04_liftoff\n",
            "10 9 8 7 6 5 4 3 2 1 Liftoff!\n"
          ]
        }
      ]
    },
    {
      "cell_type": "code",
      "source": [
        "print(\"05_double_it\")\n",
        "def main():\n",
        "    user_value = int(input(\"Enter a number: \"))\n",
        "    while user_value < 100:\n",
        "        user_value = user_value * 2\n",
        "        print(user_value)\n",
        "\n",
        "if __name__ == \"__main__\":\n",
        "    main()\n"
      ],
      "metadata": {
        "colab": {
          "base_uri": "https://localhost:8080/"
        },
        "id": "BXV_iBhjI1aH",
        "outputId": "ca86fc86-e112-4997-c7ea-d40de47b3e4b"
      },
      "execution_count": 24,
      "outputs": [
        {
          "output_type": "stream",
          "name": "stdout",
          "text": [
            "05_double_it\n",
            "Enter a number: 5\n",
            "10\n",
            "20\n",
            "40\n",
            "80\n",
            "160\n"
          ]
        }
      ]
    }
  ]
}