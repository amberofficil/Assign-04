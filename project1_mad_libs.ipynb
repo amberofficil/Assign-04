{
  "nbformat": 4,
  "nbformat_minor": 0,
  "metadata": {
    "colab": {
      "provenance": [],
      "authorship_tag": "ABX9TyMmOqiDLrLZI/INx+iLhET+",
      "include_colab_link": true
    },
    "kernelspec": {
      "name": "python3",
      "display_name": "Python 3"
    },
    "language_info": {
      "name": "python"
    }
  },
  "cells": [
    {
      "cell_type": "markdown",
      "metadata": {
        "id": "view-in-github",
        "colab_type": "text"
      },
      "source": [
        "<a href=\"https://colab.research.google.com/github/amberofficil/Assign-04/blob/main/project1_mad_libs.ipynb\" target=\"_parent\"><img src=\"https://colab.research.google.com/assets/colab-badge.svg\" alt=\"Open In Colab\"/></a>"
      ]
    },
    {
      "cell_type": "code",
      "execution_count": 7,
      "metadata": {
        "colab": {
          "base_uri": "https://localhost:8080/"
        },
        "id": "cFw9sSkF3YIT",
        "outputId": "9db1d205-2cb7-4c3e-d8c6-66399cf2f83e"
      },
      "outputs": [
        {
          "output_type": "stream",
          "name": "stdout",
          "text": [
            "Welcome to our Story Creator\n",
            "------------------------------------------------------------\n",
            "Enter Your Name:amber\n",
            "Name something you onec dislike. math\n",
            "How did it feel?difficult\n",
            "Mention an object that intrigued you.coding\n",
            "What was inside it?logics\n",
            "A life lesson in a few words?study isn't about memorizing, it's about knowledge\n",
            "Another word for a challenge?difficulty\n",
            "A word for a positive changesucess\n",
            "\n",
            "\n",
            "\"\"\"\"\"\"\"\"\"\"\"\"\"\"\"\"\"\"\"\"\"\"\"\"\"\"\"\"\"\"\"\"\"\"\"\"\"\"\"\"\"\"\"\"\"\"\"\"\"\"\"\"\"\"\"\"\"\"\"\"\n",
            "Your story\n",
            "------------------------------------------------------------\n",
            "amber always thought math was difficult until she found coding filled\n",
            "with logics. That day, she realized study isn't about memorizing, it's about knowledge, and from then on, every\n",
            "difficulty become sucess.\n",
            "\n",
            "------------------------------------------------------------\n"
          ]
        }
      ],
      "source": [
        "print(\"Welcome to our Story Creator\")\n",
        "print(\"-\"*60)\n",
        "\n",
        "name=input(\"Enter Your Name:\")\n",
        "something=input(\"Name something you onec dislike. \")\n",
        "negative_feeling=input(\"How did it feel?\")\n",
        "Object=input(\"Mention an object that intrigued you.\")\n",
        "content=input(\"What was inside it?\")\n",
        "lessonLearned=input(\"A life lesson in a few words?\")\n",
        "challenge=input(\"Another word for a challenge?\")\n",
        "positiveOutcome=input(\"A word for a positive change?\")\n",
        "\n",
        "story=f\"\"\"{name} always thought {something} was {negative_feeling} until she found {Object} filled\n",
        "with {content}. That day, she realized {lessonLearned}, and from then on, every\n",
        "{challenge} became {positiveOutcome}.\n",
        "\"\"\"\n",
        "print(\"\\n\")\n",
        "\n",
        "print(\"\\\"\"*60)\n",
        "print(\"Your story\")\n",
        "print(\"-\"*60)\n",
        "print(story)\n",
        "print(\"-\"*60)\n",
        "\n",
        "\n"
      ]
    }
  ]
}